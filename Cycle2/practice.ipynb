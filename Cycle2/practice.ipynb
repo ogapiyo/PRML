{
 "cells": [
  {
   "cell_type": "code",
   "execution_count": 1,
   "metadata": {
    "collapsed": true
   },
   "outputs": [],
   "source": [
    "import numpy as np\n",
    "from scipy.stats import norm\n",
    "import math\n",
    "import matplotlib.pyplot as plt\n",
    "from numpy.random import *\n",
    "import pandas as pd\n",
    "from scipy import stats\n",
    "from sklearn.linear_model import LinearRegression\n"
   ]
  },
  {
   "cell_type": "code",
   "execution_count": 19,
   "metadata": {},
   "outputs": [
    {
     "name": "stdout",
     "output_type": "stream",
     "text": [
      "     tall  weight\n0    78.8    10.4\n1    89.1    12.8\n2    95.3    14.2\n3   103.2    16.5\n4   109.5    18.5\n5   115.9    20.4\n6   121.1    23.4\n7   127.3    26.2\n8   133.1    29.8\n9   137.5    32.9\n10  145.0    37.1\n11  149.9    42.2\n12  158.8    45.8\n13  164.1    51.9\n14  169.2    57.2\n"
     ]
    }
   ],
   "source": [
    "# csv取り込み\n",
    "df = pd.read_csv(\"./tallWeight.csv\", skiprows=1, names=('tall', 'weight'))\n",
    "print(df)"
   ]
  },
  {
   "cell_type": "code",
   "execution_count": 20,
   "metadata": {},
   "outputs": [
    {
     "data": {
      "image/png": "[encoded data removed]",
      "text/plain": [
       "<Figure size 432x288 with 1 Axes>"
      ]
     },
     "metadata": {},
     "output_type": "display_data"
    }
   ],
   "source": [
    "#身長と体重のグラフ\n",
    "plt.scatter(df.weight, df.tall)\n",
    "plt.xlabel('weight')\n",
    "plt.ylabel('tall')\n",
    "plt.grid(True)"
   ]
  },
  {
   "cell_type": "code",
   "execution_count": 4,
   "metadata": {},
   "outputs": [
    {
     "name": "stdout",
     "output_type": "stream",
     "text": [
      "10\n11\n12\n13\n14\n15\n16\n17\n18\n19\n20\n21\n22\n23\n24\n25\n26\n27\n28\n29\n30\n31\n32\n33\n34\n35\n36\n37\n38\n39\n40\n41\n42\n43\n44\n45\n46\n47\n48\n49\n50\n51\n52\n53\n54\n55\n56\n57\n58\n59\n"
     ]
    }
   ],
   "source": [
    ""
   ]
  },
  {
   "cell_type": "code",
   "execution_count": 22,
   "metadata": {},
   "outputs": [
    {
     "data": {
      "image/png": "[encoded data removed]",
      "text/plain": [
       "<Figure size 432x288 with 1 Axes>"
      ]
     },
     "metadata": {},
     "output_type": "display_data"
    }
   ],
   "source": [
    "#Xを作成\n",
    "dfWeight = df.weight\n",
    "X = np.ones((dfWeight.size, 2))\n",
    "for i in range(dfWeight.size):\n",
    "    X[i, 1] = dfWeight[i]\n",
    "\n",
    "#tを作成\n",
    "t = df.tall\n",
    "\n",
    "#wを求める\n",
    "w = np.dot(np.dot(np.linalg.inv(np.dot(X.T, X)), X.T), t)\n",
    "\n",
    "#直線の式\n",
    "linex = np.linspace(10, 60, 10000)\n",
    "f = lambda x:w[0] + w[1]*x\n",
    "liney = f(linex)\n",
    "\n",
    "#図示\n",
    "plt.scatter(df.weight, df.tall)\n",
    "plt.plot(linex, liney, c='red')\n",
    "plt.xlabel('weight')\n",
    "plt.ylabel('tall')\n",
    "plt.grid(True)"
   ]
  },
  {
   "cell_type": "code",
   "execution_count": 8,
   "metadata": {},
   "outputs": [
    {
     "name": "stdout",
     "output_type": "stream",
     "text": [
      "147.60120273695122\n"
     ]
    }
   ],
   "source": [
    "#16人目が40.7kgのとき、身長は？\n",
    "print(f(40.7))"
   ]
  },
  {
   "cell_type": "code",
   "execution_count": 15,
   "metadata": {},
   "outputs": [
    {
     "ename": "AttributeError",
     "evalue": "'DataFrame' object has no attribute 'weight'",
     "traceback": [
      "\u001b[1;31m---------------------------------------------------------------------------\u001b[0m",
      "\u001b[1;31mAttributeError\u001b[0m                            Traceback (most recent call last)",
      "\u001b[1;32m<ipython-input-15-588b7d69f1e5>\u001b[0m in \u001b[0;36m<module>\u001b[1;34m\u001b[0m\n\u001b[0;32m      1\u001b[0m \u001b[1;31m#Xを作成\u001b[0m\u001b[1;33m\u001b[0m\u001b[1;33m\u001b[0m\u001b[0m\n\u001b[1;32m----> 2\u001b[1;33m \u001b[0mdfWeight\u001b[0m \u001b[1;33m=\u001b[0m \u001b[0mdf\u001b[0m\u001b[1;33m.\u001b[0m\u001b[0mweight\u001b[0m\u001b[1;33m\u001b[0m\u001b[0m\n\u001b[0m\u001b[0;32m      3\u001b[0m \u001b[0mm\u001b[0m \u001b[1;33m=\u001b[0m \u001b[1;36m3\u001b[0m\u001b[1;33m\u001b[0m\u001b[0m\n\u001b[0;32m      4\u001b[0m \u001b[0mX\u001b[0m \u001b[1;33m=\u001b[0m \u001b[0mnp\u001b[0m\u001b[1;33m.\u001b[0m\u001b[0mones\u001b[0m\u001b[1;33m(\u001b[0m\u001b[1;33m(\u001b[0m\u001b[0mdfWeight\u001b[0m\u001b[1;33m.\u001b[0m\u001b[0msize\u001b[0m\u001b[1;33m,\u001b[0m \u001b[0mm\u001b[0m \u001b[1;33m+\u001b[0m \u001b[1;36m1\u001b[0m\u001b[1;33m)\u001b[0m\u001b[1;33m)\u001b[0m\u001b[1;33m\u001b[0m\u001b[0m\n\u001b[0;32m      5\u001b[0m \u001b[1;33m\u001b[0m\u001b[0m\n",
      "\u001b[1;32m~\\AppData\\Local\\Programs\\Python\\Python36\\lib\\site-packages\\pandas\\core\\generic.py\u001b[0m in \u001b[0;36m__getattr__\u001b[1;34m(self, name)\u001b[0m\n\u001b[0;32m   4374\u001b[0m             \u001b[1;32mif\u001b[0m \u001b[0mself\u001b[0m\u001b[1;33m.\u001b[0m\u001b[0m_info_axis\u001b[0m\u001b[1;33m.\u001b[0m\u001b[0m_can_hold_identifiers_and_holds_name\u001b[0m\u001b[1;33m(\u001b[0m\u001b[0mname\u001b[0m\u001b[1;33m)\u001b[0m\u001b[1;33m:\u001b[0m\u001b[1;33m\u001b[0m\u001b[0m\n\u001b[0;32m   4375\u001b[0m                 \u001b[1;32mreturn\u001b[0m \u001b[0mself\u001b[0m\u001b[1;33m[\u001b[0m\u001b[0mname\u001b[0m\u001b[1;33m]\u001b[0m\u001b[1;33m\u001b[0m\u001b[0m\n\u001b[1;32m-> 4376\u001b[1;33m             \u001b[1;32mreturn\u001b[0m \u001b[0mobject\u001b[0m\u001b[1;33m.\u001b[0m\u001b[0m__getattribute__\u001b[0m\u001b[1;33m(\u001b[0m\u001b[0mself\u001b[0m\u001b[1;33m,\u001b[0m \u001b[0mname\u001b[0m\u001b[1;33m)\u001b[0m\u001b[1;33m\u001b[0m\u001b[0m\n\u001b[0m\u001b[0;32m   4377\u001b[0m \u001b[1;33m\u001b[0m\u001b[0m\n\u001b[0;32m   4378\u001b[0m     \u001b[1;32mdef\u001b[0m \u001b[0m__setattr__\u001b[0m\u001b[1;33m(\u001b[0m\u001b[0mself\u001b[0m\u001b[1;33m,\u001b[0m \u001b[0mname\u001b[0m\u001b[1;33m,\u001b[0m \u001b[0mvalue\u001b[0m\u001b[1;33m)\u001b[0m\u001b[1;33m:\u001b[0m\u001b[1;33m\u001b[0m\u001b[0m\n",
      "\u001b[1;31mAttributeError\u001b[0m: 'DataFrame' object has no attribute 'weight'"
     ],
     "output_type": "error"
    }
   ],
   "source": [
    "#Xを作成\n",
    "dfWeight = df.weight\n",
    "m = 3\n",
    "X = np.ones((dfWeight.size, m + 1))\n",
    "\n",
    "for i in range(dfWeight.size):\n",
    "    for j in range(m):\n",
    "        X[i, j + 1] = dfWeight[i] ** (j + 1)\n",
    "\n",
    "#tを作成\n",
    "t = df.tall\n",
    "\n",
    "#wを求める\n",
    "w = np.dot(np.dot(np.linalg.inv(np.dot(X.T, X)), X.T), t)\n",
    "\n",
    "#直線の式\n",
    "linex = np.linspace(10, 60, 10000)\n",
    "print(linex)\n",
    "f = lambda x:w[0] + w[1]*x + w[2]*(x ** 2) + w[3]*(x ** 3)\n",
    "'''\n",
    "f = lambda x:w[0]\n",
    "for i in range(1):\n",
    "    f = lambda x:f(x) + w[i+1]*(x**(i+1))\n",
    "liney = f(linex)\n",
    "'''\n",
    "    \n",
    "\n",
    "#図示\n",
    "plt.scatter(df.weight, df.tall)\n",
    "plt.plot(linex, liney, c='red')\n",
    "plt.xlabel('weight')\n",
    "plt.ylabel('tall')\n",
    "plt.grid(True)\n"
   ]
  },
  {
   "cell_type": "code",
   "execution_count": 6,
   "metadata": {},
   "outputs": [
    {
     "name": "stdout",
     "output_type": "stream",
     "text": [
      "143.20833796960784\n"
     ]
    }
   ],
   "source": [
    "#16人目が35.6kgのとき、身長は？\n",
    "print(f(35.6))"
   ]
  },
  {
   "cell_type": "code",
   "execution_count": 10,
   "metadata": {},
   "outputs": [
    {
     "name": "stdout",
     "output_type": "stream",
     "text": [
      "       x         y\n79  0.00 -0.246319\n80  0.01 -0.067350\n44  0.02  0.602363\n69  0.03 -0.127639\n91  0.04  0.034174\n40  0.05 -0.066260\n14  0.06  0.450742\n94  0.07  0.601147\n11  0.08  0.344912\n31  0.09  0.434617\n66  0.10  0.518852\n10  0.11  0.730681\n29  0.12  0.476397\n1   0.13  1.052615\n55  0.14  0.154739\n93  0.16  0.388053\n24  0.17  0.813079\n42  0.18  1.133907\n43  0.19  1.167182\n83  0.20  1.050628\n78  0.21  1.022316\n6   0.22  1.199697\n61  0.23  1.016374\n64  0.24  0.870271\n81  0.25  1.020031\n20  0.26  1.240373\n23  0.27  0.529793\n9   0.28  1.052765\n57  0.29  0.551779\n58  0.30  0.554227\n..   ...       ...\n39  0.70 -0.967759\n25  0.71 -0.847882\n70  0.72 -0.875564\n75  0.73 -1.207658\n54  0.74 -1.275103\n74  0.75 -1.259232\n48  0.76 -0.664957\n2   0.77 -0.711156\n63  0.78 -1.084734\n60  0.79 -0.405891\n84  0.80 -0.425099\n22  0.81 -1.244766\n13  0.82 -1.218677\n62  0.83 -0.894066\n95  0.84 -0.804615\n37  0.85 -0.927536\n87  0.86 -1.032614\n76  0.87 -1.166063\n92  0.88 -0.813458\n98  0.89 -0.904650\n36  0.90 -0.275548\n59  0.91 -0.883995\n41  0.92 -0.589779\n96  0.93 -0.432602\n65  0.94 -0.459670\n0   0.95 -0.587863\n46  0.96 -0.178458\n19  0.97 -0.388956\n17  0.98 -0.196268\n28  0.99 -0.114097\n\n[99 rows x 2 columns]\n"
     ]
    }
   ],
   "source": [
    "# csv取り込み\n",
    "df = pd.read_csv(\"./testSolve.csv\", skiprows=1, names=('x', 'y'))\n",
    "#ソート\n",
    "df = df.sort_values('x')\n",
    "\n",
    "print(df)"
   ]
  },
  {
   "cell_type": "code",
   "execution_count": 9,
   "metadata": {},
   "outputs": [
    {
     "data": {
      "image/png": "[encoded data removed]",
      "text/plain": [
       "<Figure size 432x288 with 1 Axes>"
      ]
     },
     "metadata": {},
     "output_type": "display_data"
    }
   ],
   "source": [
    "##線形回帰\n",
    "\n",
    "#Xを作成\n",
    "X = np.ones((df.x.size, 2))\n",
    "for i in range(df.x.size):\n",
    "    X[i, 1] = df.x[i]\n",
    "#print(X)\n",
    "\n",
    "#tを作成\n",
    "t = df.y\n",
    "#print(t)\n",
    "\n",
    "#wを求める\n",
    "w = np.dot(np.dot(np.linalg.inv(np.dot(X.T, X)), X.T), t)\n",
    "#print(w)\n",
    "\n",
    "#直線の式\n",
    "linex = np.linspace(0, 1, 1000)\n",
    "f = lambda x: w[0] + w[1]*x\n",
    "liney = f(linex)\n",
    "\n",
    "#図示\n",
    "plt.scatter(df.x, df.y)\n",
    "plt.plot(linex, liney, c='red')\n",
    "plt.xlabel('weight')\n",
    "plt.ylabel('tall')\n",
    "plt.grid(True)"
   ]
  },
  {
   "cell_type": "code",
   "execution_count": 14,
   "metadata": {},
   "outputs": [
    {
     "data": {
      "image/png": "[encoded data removed]",
      "text/plain": [
       "<Figure size 432x288 with 1 Axes>"
      ]
     },
     "metadata": {},
     "output_type": "display_data"
    }
   ],
   "source": [
    "##多項式回帰\n",
    "#Xを作成\n",
    "#m = 3とする ただしm>1\n",
    "m = 3\n",
    "X = np.ones((df.x.size, m + 1))\n",
    "\n",
    "for i in range(df.x.size):\n",
    "    for j in range(m):\n",
    "        X[i, j + 1] = df.x[i] ** (j + 1)\n",
    "#print(X)\n",
    "\n",
    "\n",
    "#tを作成\n",
    "t = df.y\n",
    "#print(t)\n",
    "\n",
    "#wを求める\n",
    "w = np.dot(np.dot(np.linalg.inv(np.dot(X.T, X)), X.T), t)\n",
    "#print(w)\n",
    "\n",
    "#直線の式\n",
    "linex = np.linspace(0, 1, 10000)\n",
    "f = lambda x:w[0] + w[1]*x + w[2]*(x ** 2) + w[3]*(x ** 3)\n",
    "                                                                                                                                                     \n",
    "'''\n",
    "f = lambda x:w[0]\n",
    "for i in range(m):\n",
    "    f = lambda x:f(x) + w[i+1]*(x**(i+1))\n",
    "'''\n",
    "liney = f(linex)\n",
    "\n",
    "\n",
    "#図示\n",
    "plt.scatter(df.x, df.y)\n",
    "plt.plot(linex, liney, c='red')\n",
    "plt.xlabel('x')\n",
    "plt.ylabel('y')\n",
    "plt.grid(True)"
   ]
  },
  {
   "cell_type": "code",
   "execution_count": 17,
   "metadata": {},
   "outputs": [
    {
     "name": "stdout",
     "output_type": "stream",
     "text": [
      "[10.         15.55555556 21.11111111 26.66666667 32.22222222 37.77777778\n 43.33333333 48.88888889 54.44444444 60.        ]\n"
     ]
    }
   ],
   "source": [
    "linex = np.linspace(10, 60, 10)\n",
    "print(linex)"
   ]
  }
 ],
 "metadata": {
  "kernelspec": {
   "display_name": "Python 2",
   "language": "python",
   "name": "python2"
  },
  "language_info": {
   "codemirror_mode": {
    "name": "ipython",
    "version": 2
   },
   "file_extension": ".py",
   "mimetype": "text/x-python",
   "name": "python",
   "nbconvert_exporter": "python",
   "pygments_lexer": "ipython2",
   "version": "2.7.6"
  }
 },
 "nbformat": 4,
 "nbformat_minor": 0
}
